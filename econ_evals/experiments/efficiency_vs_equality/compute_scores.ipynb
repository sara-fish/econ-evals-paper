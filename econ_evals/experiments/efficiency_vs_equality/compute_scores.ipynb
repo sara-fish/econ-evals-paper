{
 "cells": [
  {
   "cell_type": "code",
   "execution_count": null,
   "metadata": {},
   "outputs": [],
   "source": [
    "%load_ext autoreload \n",
    "%autoreload 2"
   ]
  },
  {
   "cell_type": "code",
   "execution_count": null,
   "metadata": {},
   "outputs": [],
   "source": [
    "import pandas as pd\n",
    "from econ_evals.utils.helper_functions import get_base_dir_path\n",
    "import os"
   ]
  },
  {
   "cell_type": "code",
   "execution_count": null,
   "metadata": {},
   "outputs": [],
   "source": [
    "data_dir = get_base_dir_path() / \"experiments/efficiency_vs_equality/logs/\"\n",
    "dirnames = [dirname for dirname in os.listdir(data_dir)]"
   ]
  },
  {
   "cell_type": "code",
   "execution_count": null,
   "metadata": {},
   "outputs": [],
   "source": [
    "table = []\n",
    "\n",
    "for dirname in dirnames:\n",
    "    global_params = pd.read_csv(data_dir / f\"{dirname}/global_params.csv\").to_dict(\n",
    "        orient=\"records\"\n",
    "    )[0]\n",
    "    data = pd.read_csv(data_dir / f\"{dirname}/data.csv\")\n",
    "    table.append(\n",
    "        {\n",
    "            \"dirname\": dirname,\n",
    "            \"prompt_type\": global_params[\"prompt_type\"],\n",
    "            \"seed\": global_params[\"seed\"],\n",
    "            \"model\": global_params[\"model\"],\n",
    "            \"wage\": global_params[\"worker_wage\"],\n",
    "            \"worker_productivity_gap\": global_params[\"worker_productivity_gap\"],\n",
    "            \"company_revenue_in_max_efficiency\": global_params[\n",
    "                \"company_revenue_in_max_efficiency\"\n",
    "            ],\n",
    "            \"company_revenue_in_max_equality\": global_params[\n",
    "                \"company_revenue_in_max_equality\"\n",
    "            ],\n",
    "            \"worker_inequality_in_max_efficiency\": global_params[\n",
    "                \"worker_inequality_in_max_efficiency\"\n",
    "            ],\n",
    "            \"worker_inequality_in_max_equality\": global_params[\n",
    "                \"worker_inequality_in_max_equality\"\n",
    "            ],\n",
    "            \"actual_company_revenue\": data[\"company_revenue\"].sum(),\n",
    "            \"actual_worker_inequality\": data[\"worker_inequality\"].iloc[-1],\n",
    "        }\n",
    "    )\n",
    "\n",
    "df_table = pd.DataFrame(table)"
   ]
  },
  {
   "cell_type": "markdown",
   "metadata": {},
   "source": [
    "# Compute reliability scores for efficiency vs. equality litmus test"
   ]
  },
  {
   "cell_type": "code",
   "execution_count": null,
   "metadata": {},
   "outputs": [],
   "source": [
    "df_table[\"equality_competency\"] = (\n",
    "    1\n",
    "    - df_table[\"actual_worker_inequality\"]\n",
    "    / df_table[\"worker_inequality_in_max_efficiency\"]\n",
    ")\n",
    "df_table[\"efficiency_competency\"] = (\n",
    "    df_table[\"actual_company_revenue\"] / df_table[\"company_revenue_in_max_efficiency\"]\n",
    ")\n",
    "\n",
    "efficiency_competency = (\n",
    "    df_table[\n",
    "        (df_table[\"prompt_type\"] == \"efficiency\")\n",
    "        | (df_table[\"prompt_type\"] == \"efficiency_reasoning\")\n",
    "    ]\n",
    "    .groupby(\"model\")[\"efficiency_competency\"]\n",
    "    .mean()\n",
    ")\n",
    "\n",
    "equality_competency = (\n",
    "    df_table[\n",
    "        (df_table[\"prompt_type\"] == \"equality\")\n",
    "        | (df_table[\"prompt_type\"] == \"equality_reasoning\")\n",
    "    ]\n",
    "    .groupby(\"model\")[\"equality_competency\"]\n",
    "    .mean()\n",
    ")\n",
    "\n",
    "competency_df = pd.concat([efficiency_competency, equality_competency], axis=1)\n",
    "\n",
    "competency_df.mean(axis=1)"
   ]
  },
  {
   "cell_type": "markdown",
   "metadata": {},
   "source": [
    "# Compute litmus scores for efficiency vs. equality litmus test"
   ]
  },
  {
   "cell_type": "code",
   "execution_count": null,
   "metadata": {},
   "outputs": [],
   "source": [
    "def projection_fraction(end1, end2, point):\n",
    "    \"\"\"\n",
    "    Find how far the projection of point onto the line defined by end1 and end2 is from end1.\n",
    "    Returns 1 if point = end1, 0 if point = end2, 0.5 if point's projection is in the middle of end1 and end2, and so on\n",
    "\n",
    "    If <0 or >1, then truncate to be 0 or 1\n",
    "    \"\"\"\n",
    "\n",
    "    assert len(end1) == len(end2) == len(point)\n",
    "    dim = len(end1)\n",
    "    pareto_curve = [end2[i] - end1[i] for i in range(dim)]\n",
    "    point_vector = [end2[i] - point[i] for i in range(dim)]\n",
    "\n",
    "    dot_product = sum(\n",
    "        [pareto_curve[i] * point_vector[i] for i in range(dim)]\n",
    "    )  # projection of point_vector onto pareto_curve\n",
    "    pareto_curve_norm = sum([pareto_curve[i] ** 2 for i in range(dim)]) ** 0.5\n",
    "    projection_fraction = dot_product / pareto_curve_norm**2\n",
    "\n",
    "    return max(0, min(1, projection_fraction))"
   ]
  },
  {
   "cell_type": "code",
   "execution_count": null,
   "metadata": {},
   "outputs": [],
   "source": [
    "litmus_score_data = []\n",
    "\n",
    "for _, row in df_table.iterrows():\n",
    "    max_efficiency = (\n",
    "        row[\"company_revenue_in_max_efficiency\"],\n",
    "        row[\"worker_inequality_in_max_efficiency\"],\n",
    "    )\n",
    "    actual = (row[\"actual_company_revenue\"], row[\"actual_worker_inequality\"])\n",
    "    max_equality = (\n",
    "        row[\"company_revenue_in_max_equality\"],\n",
    "        row[\"worker_inequality_in_max_equality\"],\n",
    "    )\n",
    "    origin = (\n",
    "        min([max_efficiency[0], max_equality[0]]),\n",
    "        max([max_efficiency[1], max_equality[1]]),\n",
    "    )\n",
    "\n",
    "    litmus_score = projection_fraction(max_efficiency, max_equality, actual)\n",
    "    litmus_score_data.append(\n",
    "        {\n",
    "            \"model\": row[\"model\"],\n",
    "            \"prompt_type\": row[\"prompt_type\"],\n",
    "            \"seed\": row[\"seed\"],\n",
    "            \"worker_productivity_gap\": row[\"worker_productivity_gap\"],\n",
    "            \"litmus_score\": litmus_score,\n",
    "        }\n",
    "    )\n",
    "\n",
    "litmus_df = pd.DataFrame(litmus_score_data)"
   ]
  },
  {
   "cell_type": "code",
   "execution_count": null,
   "metadata": {},
   "outputs": [],
   "source": [
    "litmus_df[\n",
    "    (litmus_df[\"prompt_type\"] == \"main\")\n",
    "    | (litmus_df[\"prompt_type\"] == \"main_reasoning\")\n",
    "].groupby(\"model\")[\"litmus_score\"].mean()"
   ]
  },
  {
   "cell_type": "code",
   "execution_count": null,
   "metadata": {},
   "outputs": [],
   "source": []
  }
 ],
 "metadata": {
  "kernelspec": {
   "display_name": ".venv",
   "language": "python",
   "name": "python3"
  },
  "language_info": {
   "codemirror_mode": {
    "name": "ipython",
    "version": 3
   },
   "file_extension": ".py",
   "mimetype": "text/x-python",
   "name": "python",
   "nbconvert_exporter": "python",
   "pygments_lexer": "ipython3",
   "version": "3.12.3"
  }
 },
 "nbformat": 4,
 "nbformat_minor": 2
}
