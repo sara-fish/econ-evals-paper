{
 "cells": [
  {
   "cell_type": "code",
   "execution_count": null,
   "metadata": {},
   "outputs": [],
   "source": [
    "%load_ext autoreload\n",
    "%autoreload 2"
   ]
  },
  {
   "cell_type": "code",
   "execution_count": null,
   "metadata": {},
   "outputs": [],
   "source": [
    "import pandas as pd\n",
    "from econ_evals.utils.helper_functions import get_base_dir_path\n",
    "from ast import literal_eval\n",
    "from econ_evals.experiments.pricing.pricing_market_logic_multiproduct import (\n",
    "    get_profits,\n",
    ")\n",
    "\n",
    "import os\n",
    "import pickle\n",
    "\n",
    "import numpy as np"
   ]
  },
  {
   "cell_type": "markdown",
   "metadata": {},
   "source": [
    "# Load data"
   ]
  },
  {
   "cell_type": "code",
   "execution_count": null,
   "metadata": {},
   "outputs": [],
   "source": [
    "big_dirnames = [\n",
    "    dirname\n",
    "    for dirname in os.listdir(get_base_dir_path() / \"experiments/pricing/logs/\")\n",
    "    if dirname.startswith(\"2025-\")\n",
    "]\n",
    "\n",
    "base_log_dir = get_base_dir_path() / \"experiments\" / \"pricing\" / \"logs\""
   ]
  },
  {
   "cell_type": "code",
   "execution_count": null,
   "metadata": {},
   "outputs": [],
   "source": [
    "if not os.path.exists(\n",
    "    get_base_dir_path() / \"experiments/pricing\" / \"dirname_to_monopoly_prices.pkl\"\n",
    "):\n",
    "    print(\n",
    "        \"No monopoly prices pre-computed. Please run the script precompute_pricing_opt.py to update the file dirname_to_monopoly_prices.pkl.\"\n",
    "    )\n",
    "\n",
    "else:\n",
    "    with open(\n",
    "        get_base_dir_path() / \"experiments/pricing\" / \"dirname_to_monopoly_prices.pkl\",\n",
    "        \"rb\",\n",
    "    ) as f:\n",
    "        dirname_to_monopoly_prices = pickle.load(f)\n",
    "\n",
    "    if len(dirname_to_monopoly_prices) != len(\n",
    "        [\n",
    "            dirname\n",
    "            for big_dirname in big_dirnames\n",
    "            for dirname in os.listdir(base_log_dir / big_dirname)\n",
    "        ]\n",
    "    ):\n",
    "        print(\n",
    "            \"Not all monopoly prices pre-computed. Please run the script precompute_pricing_opt.py to update the file dirname_to_monopoly_prices.pkl.\"\n",
    "        )\n",
    "    else:\n",
    "        print(\"Good to go -- all monopoly prices pre-computed.\")"
   ]
  },
  {
   "cell_type": "code",
   "execution_count": null,
   "metadata": {},
   "outputs": [],
   "source": [
    "START_ROUND_IDX = 50\n",
    "END_ROUND_IDX = 100\n",
    "\n",
    "table = []\n",
    "\n",
    "\n",
    "for big_dirname in big_dirnames:\n",
    "    for dirname in os.listdir(base_log_dir / big_dirname):\n",
    "        log_path = base_log_dir / big_dirname / dirname / \"logs.csv\"\n",
    "        global_params = pd.read_csv(\n",
    "            base_log_dir / big_dirname / dirname / \"global_params.csv\"\n",
    "        ).to_dict(orient=\"records\")[0]\n",
    "\n",
    "        seed = global_params[\"seed\"]\n",
    "\n",
    "        log_df = pd.read_csv(log_path)\n",
    "\n",
    "        if len(log_df) == 0:\n",
    "            print(f\"Skipping {log_path}\")\n",
    "            continue\n",
    "\n",
    "        market_df = log_df.dropna(subset=[\"prices\"])[\n",
    "            [\"prices\", \"quantities\", \"profits\", \"attempt_num\"]\n",
    "        ].reset_index(drop=True)\n",
    "\n",
    "        market_df[\"prices\"] = market_df[\"prices\"].apply(literal_eval)\n",
    "        market_df[\"quantities\"] = market_df[\"quantities\"].apply(literal_eval)\n",
    "        market_df[\"profits\"] = market_df[\"profits\"].apply(literal_eval)\n",
    "\n",
    "        model = log_df[\"model\"].dropna().values[0]\n",
    "\n",
    "        num_attempts = global_params[\"num_attempts\"]\n",
    "\n",
    "        a0 = global_params[\"a0\"]\n",
    "        a_tuple = literal_eval(global_params[\"a_tuple\"])\n",
    "        alpha_list = literal_eval(global_params[\"alpha_list\"])\n",
    "        multiplier_list = literal_eval(global_params[\"multiplier_list\"])\n",
    "        costs = literal_eval(global_params[\"costs\"])\n",
    "        c = list(costs.values())\n",
    "        mu = global_params[\"mu\"]\n",
    "        sigma = global_params[\"sigma\"]\n",
    "        group_idxs = literal_eval(global_params[\"group_idxs\"])\n",
    "\n",
    "        monopoly_prices = []\n",
    "        monopoly_profits = []\n",
    "\n",
    "        monopoly_prices = dirname_to_monopoly_prices[dirname]\n",
    "\n",
    "        for alpha, multiplier, monopoly_prices_i in zip(\n",
    "            alpha_list, multiplier_list, monopoly_prices\n",
    "        ):\n",
    "            monopoly_profits_i = get_profits(\n",
    "                p=monopoly_prices_i,\n",
    "                a0=a0,\n",
    "                a=a_tuple,\n",
    "                c=c,\n",
    "                mu=mu,\n",
    "                alpha=alpha,\n",
    "                sigma=sigma,\n",
    "                group_idxs=group_idxs,\n",
    "                multiplier=multiplier,\n",
    "            )\n",
    "            monopoly_profits.append(monopoly_profits_i)\n",
    "\n",
    "        df_long = (\n",
    "            pd.concat(\n",
    "                [\n",
    "                    market_df.set_index(\"attempt_num\")[\"profits\"]\n",
    "                    .apply(pd.Series)\n",
    "                    .stack()\n",
    "                    .rename(\"profit\")\n",
    "                ],\n",
    "                axis=1,\n",
    "            )\n",
    "            .reset_index()\n",
    "            .rename(columns={\"level_1\": \"product_id\"})\n",
    "        )\n",
    "\n",
    "        df_profit = df_long.pivot(\n",
    "            index=\"attempt_num\", columns=\"product_id\", values=\"profit\"\n",
    "        )\n",
    "\n",
    "        ## BENCHMARK QUANTITIES\n",
    "        total_profits = df_profit.iloc[START_ROUND_IDX:END_ROUND_IDX].sum(axis=1).sum()\n",
    "\n",
    "        opt_profits = (\n",
    "            np.array(monopoly_profits[START_ROUND_IDX:END_ROUND_IDX]).sum().sum()\n",
    "        )\n",
    "\n",
    "        short_log_subdirname = \"__\".join(dirname.split(\"__\")[1:])\n",
    "\n",
    "        table.append(\n",
    "            {\n",
    "                \"dirname\": dirname,\n",
    "                \"log_subdirname\": big_dirname,\n",
    "                \"ratio\": total_profits / opt_profits,\n",
    "                \"seed\": seed,\n",
    "                \"model\": model,\n",
    "                \"difficulty\": short_log_subdirname.split(\"__\")[1],\n",
    "            }\n",
    "        )\n",
    "\n",
    "df_table = pd.DataFrame(table)"
   ]
  },
  {
   "cell_type": "code",
   "execution_count": null,
   "metadata": {},
   "outputs": [],
   "source": [
    "df_table"
   ]
  },
  {
   "cell_type": "markdown",
   "metadata": {},
   "source": [
    "# Calculate pricing benchmark scores for each LLM and difficulty level"
   ]
  },
  {
   "cell_type": "code",
   "execution_count": null,
   "metadata": {},
   "outputs": [],
   "source": [
    "(\n",
    "    df_table[[\"model\", \"difficulty\", \"ratio\"]].groupby([\"model\", \"difficulty\"]).mean()\n",
    "    * 100\n",
    ").reset_index()"
   ]
  },
  {
   "cell_type": "code",
   "execution_count": null,
   "metadata": {},
   "outputs": [],
   "source": []
  }
 ],
 "metadata": {
  "kernelspec": {
   "display_name": "econ-evals-paper-BpVbBBNZ",
   "language": "python",
   "name": "python3"
  },
  "language_info": {
   "codemirror_mode": {
    "name": "ipython",
    "version": 3
   },
   "file_extension": ".py",
   "mimetype": "text/x-python",
   "name": "python",
   "nbconvert_exporter": "python",
   "pygments_lexer": "ipython3",
   "version": "3.12.7"
  }
 },
 "nbformat": 4,
 "nbformat_minor": 2
}
